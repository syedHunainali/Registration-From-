{
 "cells": [
  {
   "cell_type": "code",
   "execution_count": 2,
   "id": "e3560de5",
   "metadata": {},
   "outputs": [],
   "source": [
    "import tkinter as tk\n",
    "import matplotlib.pyplot as plt\n",
    "import pandas as pd \n",
    "from tkinter import *\n",
    "from random import randint\n",
    "from tkinter import ttk\n",
    "data=Tk()\n",
    "data.title(\"Registration Form\")\n",
    "data.geometry('500x300')\n",
    "a=Label(data,font=(\"arial\",15),text=\"Registration From\")\n",
    "a.grid(row=0,column=0)\n",
    "b=Label(data,text=\"Full Name\")\n",
    "b.grid(row=1,column=0)\n",
    "name=StringVar()\n",
    "c=Entry(data,width=20)\n",
    "c.grid(row=1,column=1)\n",
    "d=Label(data,text=\"Email\")\n",
    "d.grid(row=2,column=0)\n",
    "name=StringVar()\n",
    "c=Entry(data,width=20)\n",
    "c.grid(row=2,column=1)\n",
    "v=IntVar()\n",
    "tk.Radiobutton(data,text=\"Male\",padx=20,variable=v,value=1).grid(row=3,column=1)\n",
    "tk.Radiobutton(data,text=\"Female\",padx=20,variable=v,value=2).grid(row=3,column=2)\n",
    "E=Label(data,text=\"Gender\")\n",
    "E.grid(row=3,column=0)\n",
    "f=Label(data,text=\"country\")\n",
    "f.grid(row=4,column=0)\n",
    "var1=IntVar()\n",
    "check1=Checkbutton(data,text=\"Java\",variable=var1)\n",
    "check1.select()\n",
    "check1.grid(row=5,column=1)\n",
    "var2=IntVar()\n",
    "check2=Checkbutton(data,text=\"python\",variable=var2)\n",
    "check2.select()\n",
    "check2.grid(row=5,column=2)\n",
    "number=tk.StringVar()\n",
    "number_choosen=ttk.Combobox(data,width=20,textvariable=number)\n",
    "number_choosen['value']=[\"Chaina\",\"Pakistan\",\"India\",\"USA\",\"Iran\"]\n",
    "number_choosen.grid(row=4,column=1)\n",
    "g=Label(data,text=\"programming\")\n",
    "g.grid(row=5,column=0)\n",
    "def click_me():\n",
    "    btn.configure(text=\"Done\")\n",
    "btn=tk.Button(data,text=\"submit\",bg=\"red\",command=click_me)\n",
    "btn.grid(row=6,column=1)\n",
    "data.mainloop()"
   ]
  },
  {
   "cell_type": "code",
   "execution_count": null,
   "id": "44632baa",
   "metadata": {},
   "outputs": [],
   "source": []
  }
 ],
 "metadata": {
  "kernelspec": {
   "display_name": "Python 3 (ipykernel)",
   "language": "python",
   "name": "python3"
  },
  "language_info": {
   "codemirror_mode": {
    "name": "ipython",
    "version": 3
   },
   "file_extension": ".py",
   "mimetype": "text/x-python",
   "name": "python",
   "nbconvert_exporter": "python",
   "pygments_lexer": "ipython3",
   "version": "3.8.7"
  }
 },
 "nbformat": 4,
 "nbformat_minor": 5
}
